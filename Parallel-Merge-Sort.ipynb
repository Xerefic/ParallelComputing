{
 "cells": [
  {
   "cell_type": "code",
   "execution_count": 1,
   "metadata": {},
   "outputs": [],
   "source": [
    "import math\n",
    "import sys\n",
    "import multiprocessing"
   ]
  },
  {
   "cell_type": "code",
   "execution_count": 2,
   "metadata": {},
   "outputs": [],
   "source": [
    "def merge(*args):\n",
    "        \n",
    "        left, right = args[0] if len(args)==1 else args\n",
    "        length_left, length_right = len(left), len(right)\n",
    "        left_index, right_index = 0, 0\n",
    "        \n",
    "        merged = []\n",
    "        \n",
    "        while left_index < length_left and right_index < length_right:\n",
    "            if left[left_index] <= right[right_index]:\n",
    "                merged.append(left[left_index])\n",
    "                left_index += 1\n",
    "            else:\n",
    "                merged.append(right[right_index])\n",
    "                right_index += 1\n",
    "                \n",
    "        if left_index == length_left:\n",
    "            merged.extend(right[right_index:])\n",
    "        else:\n",
    "            merged.extend(left[left_index:])\n",
    "        return merged"
   ]
  },
  {
   "cell_type": "code",
   "execution_count": 3,
   "metadata": {},
   "outputs": [],
   "source": [
    "def mergeSort(array):\n",
    "    \n",
    "    length = len(array)\n",
    "    \n",
    "    if length<=1:\n",
    "        return array\n",
    "    else:\n",
    "        middle = length//2\n",
    "        left = mergeSort(array[:middle])\n",
    "        right = mergeSort(array[middle:])\n",
    "        \n",
    "        return merge(left, right)\n",
    "        "
   ]
  },
  {
   "cell_type": "code",
   "execution_count": 12,
   "metadata": {},
   "outputs": [],
   "source": [
    "def sortParallel(data):\n",
    "    \n",
    "    processes = multiprocessing.cpu_count()\n",
    "    pool = multiprocessing.Pool(processes=processes)\n",
    "    \n",
    "    size = int( math.ceil( float(len(data)) / processes) )\n",
    "    data = [ data[ i*size : (i+1)*size ] for i in range(processes) ]\n",
    "    \n",
    "    data = pool.map(mergeSort, data)\n",
    "    \n",
    "    while len(data)>1:\n",
    "        extra = data.pop() if len(data)%2==1 else None\n",
    "        data = [ (data[i], data[i + 1]) for i in range(0, len(data), 2) ]\n",
    "        data = pool.map(merge, data) + ([extra] if extra else [])\n",
    "    \n",
    "    return data[0]"
   ]
  },
  {
   "cell_type": "code",
   "execution_count": 27,
   "metadata": {},
   "outputs": [],
   "source": [
    "a = list(range(1000000))\n",
    "a = a[::-1]"
   ]
  },
  {
   "cell_type": "code",
   "execution_count": 28,
   "metadata": {},
   "outputs": [],
   "source": [
    "import time"
   ]
  },
  {
   "cell_type": "code",
   "execution_count": 31,
   "metadata": {},
   "outputs": [
    {
     "name": "stdout",
     "output_type": "stream",
     "text": [
      "3.304704189300537\n"
     ]
    }
   ],
   "source": [
    "start = time.time()\n",
    "\n",
    "b = mergeSort(a)\n",
    "\n",
    "end = time.time()-start\n",
    "\n",
    "print(end)"
   ]
  },
  {
   "cell_type": "code",
   "execution_count": 32,
   "metadata": {},
   "outputs": [
    {
     "name": "stdout",
     "output_type": "stream",
     "text": [
      "2.451479434967041\n"
     ]
    }
   ],
   "source": [
    "start = time.time()\n",
    "\n",
    "b = sortParallel(a)\n",
    "\n",
    "end = time.time()-start\n",
    "\n",
    "print(end)"
   ]
  },
  {
   "cell_type": "code",
   "execution_count": null,
   "metadata": {},
   "outputs": [],
   "source": []
  }
 ],
 "metadata": {
  "kernelspec": {
   "display_name": "Python 3.8.5 64-bit",
   "language": "python",
   "name": "python385jvsc74a57bd00aecec0a255461a7fdf48717fca0ab45832ba4249b9229dde511dcafce9ade38"
  },
  "language_info": {
   "codemirror_mode": {
    "name": "ipython",
    "version": 3
   },
   "file_extension": ".py",
   "mimetype": "text/x-python",
   "name": "python",
   "nbconvert_exporter": "python",
   "pygments_lexer": "ipython3",
   "version": "3.8.5"
  }
 },
 "nbformat": 4,
 "nbformat_minor": 4
}
